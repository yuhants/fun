{
 "cells": [
  {
   "cell_type": "code",
   "execution_count": 53,
   "metadata": {},
   "outputs": [],
   "source": [
    "import numpy as np\n",
    "import matplotlib.pyplot as plt\n",
    "\n",
    "from scipy.optimize import fsolve\n",
    "from scipy.special import sici"
   ]
  },
  {
   "cell_type": "code",
   "execution_count": 9,
   "metadata": {},
   "outputs": [],
   "source": [
    "# Silica properties\n",
    "\n",
    "# These numbers roughly reproduce the results in\n",
    "# https://opg.optica.org/ol/abstract.cfm?uri=ol-32-15-2200\n",
    "E     = 300 * 1e9  # Young's modulus; Pa; usually silica has ~73 GPa\n",
    "sigma = 0.17       # Poisson's ratio\n",
    "rho   = 2200       # kg / m^3\n",
    "\n",
    "cl = np.sqrt(E * (1 - sigma) / (rho * (1 + sigma) * (1 - 2 * sigma)))\n",
    "ct = np.sqrt(E / (2 * rho * (1 + sigma)))"
   ]
  },
  {
   "cell_type": "code",
   "execution_count": 10,
   "metadata": {},
   "outputs": [],
   "source": [
    "lam = E * sigma / ( (1 + sigma) * (1 - 2 * sigma) )\n",
    "mu  = E / (2 * (1 + sigma))\n",
    "\n",
    "v0 = np.sqrt((lam + 2 * mu) / rho)\n",
    "v1 = np.sqrt(mu / rho)"
   ]
  },
  {
   "cell_type": "code",
   "execution_count": 15,
   "metadata": {},
   "outputs": [],
   "source": [
    "# These two functions give the same result\n",
    "def func_landau(ff, R, cl, ct):\n",
    "    omega = 2 * np.pi * ff * 1e6\n",
    "\n",
    "    kk = omega / cl\n",
    "    \n",
    "    return np.tan(kk * R) / (kk * R) - 1 / (1 - (kk* R * cl / 2 / ct)**2)\n",
    "\n",
    "def func(ff, R, v0, v1):\n",
    "    omega = 2 * np.pi * ff * 1e6\n",
    "\n",
    "    kk = omega / v1\n",
    "    hh = omega / v0\n",
    "    \n",
    "    return np.tan(hh * R) / (hh * R) - 1 / (1 - 0.25 * (kk**2 * R**2))"
   ]
  },
  {
   "cell_type": "markdown",
   "metadata": {},
   "source": [
    "Solve for resonant freuqency of the breathing mode (n, l) = (1, 0) of a 30 um sphere"
   ]
  },
  {
   "cell_type": "code",
   "execution_count": 111,
   "metadata": {
    "scrolled": false
   },
   "outputs": [
    {
     "data": {
      "text/plain": [
       "[<matplotlib.lines.Line2D at 0x1d978d73cd0>]"
      ]
     },
     "execution_count": 111,
     "metadata": {},
     "output_type": "execute_result"
    },
    {
     "data": {
      "image/png": "[encoded data removed]",
      "text/plain": [
       "<Figure size 720x576 with 1 Axes>"
      ]
     },
     "metadata": {
      "needs_background": "light"
     },
     "output_type": "display_data"
    }
   ],
   "source": [
    "R = 50e-6 # 30 um sphere\n",
    "\n",
    "ff = np.linspace(45, 50, 20000)\n",
    "\n",
    "# The function oscillate very quickly around zero\n",
    "# so need a better way to solve for roots\n",
    "fig, ax = plt.subplots(figsize=(10, 8))\n",
    "plt.loglog(ff, np.abs(func(ff, R, v0, v1)), '.')\n",
    "# plt.plot(ff, func_landau(ff, R, cl, ct))"
   ]
  },
  {
   "cell_type": "code",
   "execution_count": 17,
   "metadata": {},
   "outputs": [
    {
     "data": {
      "text/plain": [
       "array([-3.62711308e-07])"
      ]
     },
     "execution_count": 17,
     "metadata": {},
     "output_type": "execute_result"
    }
   ],
   "source": [
    "fsolve(func_landau, x0=150, args=(R, cl, ct))"
   ]
  },
  {
   "cell_type": "code",
   "execution_count": 112,
   "metadata": {},
   "outputs": [],
   "source": [
    "# f_10 = 161.9945 * 1e6  # Take 161.9945 MHz for now\n",
    "f_10 = 48.6 * 1e6\n",
    "omega_10 = 2 * np.pi * f_10\n",
    "k_10 = omega_10 / cl"
   ]
  },
  {
   "cell_type": "markdown",
   "metadata": {},
   "source": [
    "Calculate the mode function and effective mass"
   ]
  },
  {
   "cell_type": "code",
   "execution_count": 114,
   "metadata": {},
   "outputs": [],
   "source": [
    "def un(kn, rr, R):\n",
    "    # Normalize such that un(R) = 1\n",
    "    N = (-1 / R) * np.sin(kn * R) + (kn / R) * np.cos(kn * R)\n",
    "    \n",
    "    _un = (-1 / rr) * np.sin(kn * rr) + (kn / rr) * np.cos(kn * rr)\n",
    "    return _un / N\n",
    "\n",
    "def An(kn, R):\n",
    "    N = (-1 / R) * np.sin(kn * R) + (kn / R) * np.cos(kn * R)\n",
    "    return 1 / N"
   ]
  },
  {
   "cell_type": "code",
   "execution_count": 43,
   "metadata": {
    "scrolled": true
   },
   "outputs": [
    {
     "name": "stderr",
     "output_type": "stream",
     "text": [
      "C:\\Users\\yuhan\\AppData\\Local\\Temp\\ipykernel_12860\\4052146212.py:5: RuntimeWarning: divide by zero encountered in true_divide\n",
      "  _un = (-1 / rr) * np.sin(kn * rr) + (kn / rr) * np.cos(kn * rr)\n",
      "C:\\Users\\yuhan\\AppData\\Local\\Temp\\ipykernel_12860\\4052146212.py:5: RuntimeWarning: invalid value encountered in multiply\n",
      "  _un = (-1 / rr) * np.sin(kn * rr) + (kn / rr) * np.cos(kn * rr)\n"
     ]
    },
    {
     "data": {
      "text/plain": [
       "[<matplotlib.lines.Line2D at 0x1d979107a00>]"
      ]
     },
     "execution_count": 43,
     "metadata": {},
     "output_type": "execute_result"
    },
    {
     "data": {
      "image/png": "[encoded data removed]",
      "text/plain": [
       "<Figure size 432x288 with 1 Axes>"
      ]
     },
     "metadata": {
      "needs_background": "light"
     },
     "output_type": "display_data"
    }
   ],
   "source": [
    "rr = np.linspace(0, R, 10000)\n",
    "plt.plot(rr, un(k_10, rr, R))"
   ]
  },
  {
   "cell_type": "code",
   "execution_count": 115,
   "metadata": {},
   "outputs": [],
   "source": [
    "def _func_qn(kn, r):\n",
    "    ret = -1 * np.sin(kn * r) / (kn**2) + r * np.cos(kn * r) / kn + 2 * r * np.cos(kn * r) / kn + r**2 - 2 / (kn**2)\n",
    "    return ret\n",
    "    \n",
    "def qn(kn, R):\n",
    "    m = (4 * np.pi / 3) * R**3 * rho\n",
    "    integral = An(kn, R) * (_func_qn(kn, R) - _func_qn(kn, 0))\n",
    "    # print(m, integral)\n",
    "    \n",
    "    Jn = (3 / (R**4)) * integral\n",
    "    \n",
    "    # Output is in SI units\n",
    "    return m * R * Jn"
   ]
  },
  {
   "cell_type": "code",
   "execution_count": 116,
   "metadata": {},
   "outputs": [],
   "source": [
    "def _func_Mn(kn, r):\n",
    "    second = (kn / 4) * (2 * kn * r + np.sin(2 * kn * r))\n",
    "    third = kn * sici(2 * kn * r)[0]\n",
    "    \n",
    "    return (second + third)\n",
    "    \n",
    "def Mn(kn, R):\n",
    "    first = kn * sici(2 * kn * R)[0] - (np.sin(kn * R))**2 / R\n",
    "    integral = (An(kn, R)**2) * (first + _func_Mn(kn, R) - _func_Mn(kn, 0))\n",
    "    \n",
    "    return 4 * np.pi * rho * integral"
   ]
  },
  {
   "cell_type": "code",
   "execution_count": 123,
   "metadata": {},
   "outputs": [],
   "source": [
    "kb = 1.38e-23\n",
    "T  = 10   # K\n",
    "v_dm = 230 * 1e3  # m/s\n",
    "Qn = 1e9\n",
    "tau_int = 1e8     # s\n",
    "N_sphere = 1e9"
   ]
  },
  {
   "cell_type": "code",
   "execution_count": 124,
   "metadata": {},
   "outputs": [],
   "source": [
    "hmin = np.sqrt(1/ N_sphere) * np.sqrt(4 * kb * T * Mn(k_10, R) * v_dm / (Qn * qn(k_10, R)**2 * np.power(omega_10, 5/2) )) * np.power(tau_int, -1/4)"
   ]
  },
  {
   "cell_type": "code",
   "execution_count": 125,
   "metadata": {},
   "outputs": [],
   "source": [
    "c = 299792458\n",
    "Gn = 6.474e-11 # SI\n",
    "rho_dm = 300 * 1.6e-19\n",
    "\n",
    "d_min = np.sqrt(c**2 / (8 * np.pi * Gn * rho_dm)) * omega_10 * hmin"
   ]
  },
  {
   "cell_type": "code",
   "execution_count": 126,
   "metadata": {},
   "outputs": [
    {
     "name": "stdout",
     "output_type": "stream",
     "text": [
      "5.91e+08\n"
     ]
    }
   ],
   "source": [
    "print(f'{d_min:.2e}')"
   ]
  },
  {
   "cell_type": "code",
   "execution_count": null,
   "metadata": {},
   "outputs": [],
   "source": []
  }
 ],
 "metadata": {
  "kernelspec": {
   "display_name": "microspheres",
   "language": "python",
   "name": "microspheres"
  },
  "language_info": {
   "codemirror_mode": {
    "name": "ipython",
    "version": 3
   },
   "file_extension": ".py",
   "mimetype": "text/x-python",
   "name": "python",
   "nbconvert_exporter": "python",
   "pygments_lexer": "ipython3",
   "version": "3.10.2"
  }
 },
 "nbformat": 4,
 "nbformat_minor": 5
}
